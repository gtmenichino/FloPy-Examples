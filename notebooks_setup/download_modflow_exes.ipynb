{
 "cells": [
  {
   "cell_type": "code",
   "execution_count": 3,
   "metadata": {},
   "outputs": [
    {
     "name": "stdout",
     "output_type": "stream",
     "text": [
      "fetched release '19.0' info from MODFLOW-USGS/executables\n",
      "using previous download 'C:\\Users\\gtmen\\Downloads\\modflow_executables-19.0-win64.zip' (use 'force=True' to re-download)\n",
      "extracting 25 files to 'C:\\Users\\gtmen\\Desktop\\FloPy Examples\\modflowExe'\n",
      "crt.exe (1.3.1)         mfnwt.exe (1.3.0)       sutra.exe (3.0)\n",
      "gridgen.exe (1.0.02)    mfnwtdbl.exe (1.3.0)    swtv4.exe (4.00.05)\n",
      "libmf6.dll (6.5.0)      mfusg.exe (1.5)         triangle.exe (1.6)\n",
      "mf2000.exe (1.19.01)    mfusgdbl.exe (1.5)      vs2dt.exe (3.3)\n",
      "mf2005.exe (1.12.00)    mfusg_gsi.exe (2.3.0)   zbud6.exe (6.5.0)\n",
      "mf2005dbl.exe (1.12.00) mp6.exe (6.0.1)         zonbud3.exe (3.01)\n",
      "mf6.exe (6.5.0)         mp7.exe (7.2.001)       zonbudusg.exe (1.5)\n",
      "mflgr.exe (2.0.0)       mt3dms.exe (5.3.0)\n",
      "mflgrdbl.exe (2.0.0)    mt3dusgs.exe (1.1.0)\n",
      "updated flopy metadata file: 'C:\\Users\\gtmen\\AppData\\Local\\flopy\\get_modflow.json'\n",
      "MODFLOW executables downloaded successfully.\n",
      "Contents of the MODFLOW executable directory:\n",
      "C:\\Users\\gtmen\\Desktop\\FloPy Examples\\modflowExe\\crt.exe\n",
      "C:\\Users\\gtmen\\Desktop\\FloPy Examples\\modflowExe\\gridgen.exe\n",
      "C:\\Users\\gtmen\\Desktop\\FloPy Examples\\modflowExe\\libmf6.dll\n",
      "C:\\Users\\gtmen\\Desktop\\FloPy Examples\\modflowExe\\mf2000.exe\n",
      "C:\\Users\\gtmen\\Desktop\\FloPy Examples\\modflowExe\\mf2005.exe\n",
      "C:\\Users\\gtmen\\Desktop\\FloPy Examples\\modflowExe\\mf2005dbl.exe\n",
      "C:\\Users\\gtmen\\Desktop\\FloPy Examples\\modflowExe\\mf6.exe\n",
      "C:\\Users\\gtmen\\Desktop\\FloPy Examples\\modflowExe\\mflgr.exe\n",
      "C:\\Users\\gtmen\\Desktop\\FloPy Examples\\modflowExe\\mflgrdbl.exe\n",
      "C:\\Users\\gtmen\\Desktop\\FloPy Examples\\modflowExe\\mfnwt.exe\n",
      "C:\\Users\\gtmen\\Desktop\\FloPy Examples\\modflowExe\\mfnwtdbl.exe\n",
      "C:\\Users\\gtmen\\Desktop\\FloPy Examples\\modflowExe\\mfusg.exe\n",
      "C:\\Users\\gtmen\\Desktop\\FloPy Examples\\modflowExe\\mfusgdbl.exe\n",
      "C:\\Users\\gtmen\\Desktop\\FloPy Examples\\modflowExe\\mfusg_gsi.exe\n",
      "C:\\Users\\gtmen\\Desktop\\FloPy Examples\\modflowExe\\mp6.exe\n",
      "C:\\Users\\gtmen\\Desktop\\FloPy Examples\\modflowExe\\mp7.exe\n",
      "C:\\Users\\gtmen\\Desktop\\FloPy Examples\\modflowExe\\mt3dms.exe\n",
      "C:\\Users\\gtmen\\Desktop\\FloPy Examples\\modflowExe\\mt3dusgs.exe\n",
      "C:\\Users\\gtmen\\Desktop\\FloPy Examples\\modflowExe\\sutra.exe\n",
      "C:\\Users\\gtmen\\Desktop\\FloPy Examples\\modflowExe\\swtv4.exe\n",
      "C:\\Users\\gtmen\\Desktop\\FloPy Examples\\modflowExe\\triangle.exe\n",
      "C:\\Users\\gtmen\\Desktop\\FloPy Examples\\modflowExe\\vs2dt.exe\n",
      "C:\\Users\\gtmen\\Desktop\\FloPy Examples\\modflowExe\\zbud6.exe\n",
      "C:\\Users\\gtmen\\Desktop\\FloPy Examples\\modflowExe\\zonbud3.exe\n",
      "C:\\Users\\gtmen\\Desktop\\FloPy Examples\\modflowExe\\zonbudusg.exe\n"
     ]
    }
   ],
   "source": [
    "# https://flopy.readthedocs.io/en/latest/md/get_modflow.html\n",
    "\n",
    "from pathlib import Path\n",
    "import flopy\n",
    "\n",
    "# Define the directory within your project where MODFLOW executables will be stored\n",
    "modflow_exe_dir = Path(\"../modflowExe\").resolve()  # Resolves to an absolute path relative to the current working directory\n",
    "\n",
    "# Create the directory if it doesn't exist\n",
    "modflow_exe_dir.mkdir(parents=True, exist_ok=True)\n",
    "\n",
    "# Attempt to download and install MODFLOW executables into the specified directory\n",
    "try:\n",
    "    flopy.utils.get_modflow(bindir=str(modflow_exe_dir))\n",
    "    print(\"MODFLOW executables downloaded successfully.\")\n",
    "except Exception as e:\n",
    "    print(f\"Error downloading MODFLOW: {e}\")\n",
    "\n",
    "# List the contents of the directory to verify the download\n",
    "print(\"Contents of the MODFLOW executable directory:\")\n",
    "for item in modflow_exe_dir.iterdir():\n",
    "    print(item)"
   ]
  }
 ],
 "metadata": {
  "kernelspec": {
   "display_name": ".venv",
   "language": "python",
   "name": "python3"
  },
  "language_info": {
   "codemirror_mode": {
    "name": "ipython",
    "version": 3
   },
   "file_extension": ".py",
   "mimetype": "text/x-python",
   "name": "python",
   "nbconvert_exporter": "python",
   "pygments_lexer": "ipython3",
   "version": "3.11.1"
  }
 },
 "nbformat": 4,
 "nbformat_minor": 2
}
